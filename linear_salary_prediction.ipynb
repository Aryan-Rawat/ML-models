{
  "nbformat": 4,
  "nbformat_minor": 0,
  "metadata": {
    "colab": {
      "name": "linear_salary_prediction.ipynb",
      "provenance": []
    },
    "kernelspec": {
      "name": "python3",
      "display_name": "Python 3"
    },
    "language_info": {
      "name": "python"
    }
  },
  "cells": [
    {
      "cell_type": "code",
      "metadata": {
        "id": "g1a57khJQU9X"
      },
      "source": [
        "import pandas as pd\n",
        "import numpy as np\n",
        "import matplotlib.pyplot as plt\n",
        "%matplotlib inline"
      ],
      "execution_count": null,
      "outputs": []
    },
    {
      "cell_type": "code",
      "metadata": {
        "id": "_87ClAKmQZSq"
      },
      "source": [
        "dataset = pd.read_csv('/content/money.csv')\n",
        "dataset.head(10)"
      ],
      "execution_count": null,
      "outputs": []
    },
    {
      "cell_type": "code",
      "metadata": {
        "id": "cjbOGtc8Qm3j"
      },
      "source": [
        "from sklearn.model_selection import train_test_split\n",
        "X_train, X_test, y_train, y_test = train_test_split(dataset[['population (in 10,000)']], dataset['profit (in $10,000)'], test_size=0.3, random_state=0)\n",
        "print(y)\n",
        "print(X)"
      ],
      "execution_count": null,
      "outputs": []
    },
    {
      "cell_type": "code",
      "metadata": {
        "id": "8pTYTW32QorT",
        "colab": {
          "base_uri": "https://localhost:8080/"
        },
        "outputId": "583e5dad-d3a6-453f-9dda-64c5f89b1c76"
      },
      "source": [
        "from sklearn.linear_model import LinearRegression\n",
        "regressor = LinearRegression()\n",
        "regressor.fit(X_train, y_train)\n",
        "print(regressor.intercept_)\n",
        "print(regressor.coef_)\n",
        "\n",
        "y_pred = regressor.predict(X_test)\n",
        "print(regressor.score(X_test, y_test))\n"
      ],
      "execution_count": null,
      "outputs": [
        {
          "output_type": "stream",
          "name": "stdout",
          "text": [
            "-3.862462064591658\n",
            "[1.19869775]\n",
            "0.5925170253216792\n"
          ]
        }
      ]
    },
    {
      "cell_type": "code",
      "metadata": {
        "colab": {
          "base_uri": "https://localhost:8080/",
          "height": 973
        },
        "id": "J_2FjAI2DHZQ",
        "outputId": "63f4a289-b591-4326-ae01-96ae9a81e5ba"
      },
      "source": [
        "df = pd.DataFrame({'Actual': y_test, 'Predicted': y_pred})\n",
        "df\n"
      ],
      "execution_count": null,
      "outputs": [
        {
          "output_type": "execute_result",
          "data": {
            "text/html": [
              "<div>\n",
              "<style scoped>\n",
              "    .dataframe tbody tr th:only-of-type {\n",
              "        vertical-align: middle;\n",
              "    }\n",
              "\n",
              "    .dataframe tbody tr th {\n",
              "        vertical-align: top;\n",
              "    }\n",
              "\n",
              "    .dataframe thead th {\n",
              "        text-align: right;\n",
              "    }\n",
              "</style>\n",
              "<table border=\"1\" class=\"dataframe\">\n",
              "  <thead>\n",
              "    <tr style=\"text-align: right;\">\n",
              "      <th></th>\n",
              "      <th>Actual</th>\n",
              "      <th>Predicted</th>\n",
              "    </tr>\n",
              "  </thead>\n",
              "  <tbody>\n",
              "    <tr>\n",
              "      <th>26</th>\n",
              "      <td>13.50100</td>\n",
              "      <td>11.514433</td>\n",
              "    </tr>\n",
              "    <tr>\n",
              "      <th>84</th>\n",
              "      <td>5.34360</td>\n",
              "      <td>3.948133</td>\n",
              "    </tr>\n",
              "    <tr>\n",
              "      <th>2</th>\n",
              "      <td>13.66200</td>\n",
              "      <td>6.348765</td>\n",
              "    </tr>\n",
              "    <tr>\n",
              "      <th>55</th>\n",
              "      <td>-1.42110</td>\n",
              "      <td>3.759937</td>\n",
              "    </tr>\n",
              "    <tr>\n",
              "      <th>68</th>\n",
              "      <td>1.01730</td>\n",
              "      <td>2.729656</td>\n",
              "    </tr>\n",
              "    <tr>\n",
              "      <th>81</th>\n",
              "      <td>0.20421</td>\n",
              "      <td>2.356861</td>\n",
              "    </tr>\n",
              "    <tr>\n",
              "      <th>16</th>\n",
              "      <td>5.30480</td>\n",
              "      <td>3.767729</td>\n",
              "    </tr>\n",
              "    <tr>\n",
              "      <th>78</th>\n",
              "      <td>6.75260</td>\n",
              "      <td>8.452959</td>\n",
              "    </tr>\n",
              "    <tr>\n",
              "      <th>54</th>\n",
              "      <td>1.42330</td>\n",
              "      <td>3.728651</td>\n",
              "    </tr>\n",
              "    <tr>\n",
              "      <th>66</th>\n",
              "      <td>5.74420</td>\n",
              "      <td>6.080856</td>\n",
              "    </tr>\n",
              "    <tr>\n",
              "      <th>53</th>\n",
              "      <td>4.99810</td>\n",
              "      <td>5.251357</td>\n",
              "    </tr>\n",
              "    <tr>\n",
              "      <th>89</th>\n",
              "      <td>2.82140</td>\n",
              "      <td>2.202229</td>\n",
              "    </tr>\n",
              "    <tr>\n",
              "      <th>71</th>\n",
              "      <td>4.02590</td>\n",
              "      <td>4.929387</td>\n",
              "    </tr>\n",
              "    <tr>\n",
              "      <th>13</th>\n",
              "      <td>7.22580</td>\n",
              "      <td>6.216668</td>\n",
              "    </tr>\n",
              "    <tr>\n",
              "      <th>7</th>\n",
              "      <td>12.00000</td>\n",
              "      <td>6.420087</td>\n",
              "    </tr>\n",
              "    <tr>\n",
              "      <th>30</th>\n",
              "      <td>-1.22000</td>\n",
              "      <td>2.433578</td>\n",
              "    </tr>\n",
              "    <tr>\n",
              "      <th>22</th>\n",
              "      <td>4.26300</td>\n",
              "      <td>2.718508</td>\n",
              "    </tr>\n",
              "    <tr>\n",
              "      <th>24</th>\n",
              "      <td>3.08250</td>\n",
              "      <td>2.808171</td>\n",
              "    </tr>\n",
              "    <tr>\n",
              "      <th>33</th>\n",
              "      <td>1.84950</td>\n",
              "      <td>3.200025</td>\n",
              "    </tr>\n",
              "    <tr>\n",
              "      <th>8</th>\n",
              "      <td>6.59870</td>\n",
              "      <td>3.912531</td>\n",
              "    </tr>\n",
              "    <tr>\n",
              "      <th>43</th>\n",
              "      <td>2.44060</td>\n",
              "      <td>3.058459</td>\n",
              "    </tr>\n",
              "    <tr>\n",
              "      <th>62</th>\n",
              "      <td>17.92900</td>\n",
              "      <td>21.644627</td>\n",
              "    </tr>\n",
              "    <tr>\n",
              "      <th>3</th>\n",
              "      <td>11.85400</td>\n",
              "      <td>4.532258</td>\n",
              "    </tr>\n",
              "    <tr>\n",
              "      <th>86</th>\n",
              "      <td>6.79810</td>\n",
              "      <td>7.141823</td>\n",
              "    </tr>\n",
              "    <tr>\n",
              "      <th>45</th>\n",
              "      <td>1.04630</td>\n",
              "      <td>4.640021</td>\n",
              "    </tr>\n",
              "    <tr>\n",
              "      <th>48</th>\n",
              "      <td>8.00430</td>\n",
              "      <td>10.162302</td>\n",
              "    </tr>\n",
              "    <tr>\n",
              "      <th>6</th>\n",
              "      <td>4.34830</td>\n",
              "      <td>5.099482</td>\n",
              "    </tr>\n",
              "    <tr>\n",
              "      <th>96</th>\n",
              "      <td>0.61705</td>\n",
              "      <td>2.654738</td>\n",
              "    </tr>\n",
              "    <tr>\n",
              "      <th>80</th>\n",
              "      <td>0.47953</td>\n",
              "      <td>3.005117</td>\n",
              "    </tr>\n",
              "    <tr>\n",
              "      <th>75</th>\n",
              "      <td>0.29678</td>\n",
              "      <td>3.986491</td>\n",
              "    </tr>\n",
              "  </tbody>\n",
              "</table>\n",
              "</div>"
            ],
            "text/plain": [
              "      Actual  Predicted\n",
              "26  13.50100  11.514433\n",
              "84   5.34360   3.948133\n",
              "2   13.66200   6.348765\n",
              "55  -1.42110   3.759937\n",
              "68   1.01730   2.729656\n",
              "81   0.20421   2.356861\n",
              "16   5.30480   3.767729\n",
              "78   6.75260   8.452959\n",
              "54   1.42330   3.728651\n",
              "66   5.74420   6.080856\n",
              "53   4.99810   5.251357\n",
              "89   2.82140   2.202229\n",
              "71   4.02590   4.929387\n",
              "13   7.22580   6.216668\n",
              "7   12.00000   6.420087\n",
              "30  -1.22000   2.433578\n",
              "22   4.26300   2.718508\n",
              "24   3.08250   2.808171\n",
              "33   1.84950   3.200025\n",
              "8    6.59870   3.912531\n",
              "43   2.44060   3.058459\n",
              "62  17.92900  21.644627\n",
              "3   11.85400   4.532258\n",
              "86   6.79810   7.141823\n",
              "45   1.04630   4.640021\n",
              "48   8.00430  10.162302\n",
              "6    4.34830   5.099482\n",
              "96   0.61705   2.654738\n",
              "80   0.47953   3.005117\n",
              "75   0.29678   3.986491"
            ]
          },
          "metadata": {},
          "execution_count": 37
        }
      ]
    },
    {
      "cell_type": "code",
      "metadata": {
        "colab": {
          "base_uri": "https://localhost:8080/",
          "height": 295
        },
        "id": "-hONXp6wEDiw",
        "outputId": "244698d4-452e-4a7d-d3c7-d835c0dd57a7"
      },
      "source": [
        "plt.scatter(X_test, y_test, color = 'red')\n",
        "plt.plot(X_train, regressor.predict(X_train), color = 'blue')\n",
        "plt.title('population vs profit (Test set)')\n",
        "plt.xlabel('population')\n",
        "plt.ylabel('profit')\n",
        "plt.show()\n"
      ],
      "execution_count": null,
      "outputs": [
        {
          "output_type": "display_data",
          "data": {
            "image/png": "[encoded data removed]",
            "text/plain": [
              "<Figure size 432x288 with 1 Axes>"
            ]
          },
          "metadata": {
            "needs_background": "light"
          }
        }
      ]
    }
  ]
}